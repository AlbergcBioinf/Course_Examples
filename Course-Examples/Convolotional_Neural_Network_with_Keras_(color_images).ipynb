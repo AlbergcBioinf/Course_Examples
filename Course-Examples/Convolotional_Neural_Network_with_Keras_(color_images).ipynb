{
  "cells": [
    {
      "cell_type": "code",
      "execution_count": null,
      "metadata": {
        "colab": {
          "background_save": true
        },
        "id": "7jLml_Wprl2d"
      },
      "outputs": [],
      "source": [
        "import numpy as np\n",
        "import pandas as pd\n",
        "import matplotlib.pyplot as plt\n",
        "import warnings\n",
        "from sklearn.model_selection import train_test_split\n",
        "from keras.datasets.cifar10 import load_data\n",
        "from keras.models import Sequential\n",
        "from keras. layers import Dense, Conv2D, Dropout, Flatten, MaxPooling2D\n",
        "from keras.optimizers import Adam, RMSprop, SGD\n",
        "import tensorflow as tf\n",
        "\n",
        "warnings.filterwarnings('ignore') # Turn the warnings off.\n",
        "%matplotlib inline\n"
      ]
    },
    {
      "cell_type": "code",
      "execution_count": null,
      "metadata": {
        "colab": {
          "background_save": true
        },
        "id": "pBOI0dv_t9Cg"
      },
      "outputs": [],
      "source": [
        "(X_train, y_train), (X_test, y_test) = load_data()\n",
        "n_train_size = X_train.shape[0]"
      ]
    },
    {
      "cell_type": "code",
      "execution_count": null,
      "metadata": {
        "colab": {
          "background_save": true
        },
        "id": "_o_vHZ4ct9Et",
        "outputId": "a43ff3c9-73cb-4ea1-98bd-a27ceb7e84a7"
      },
      "outputs": [
        {
          "name": "stdout",
          "output_type": "stream",
          "text": [
            "--------------------------------------------------\n",
            "Training data X shape: (50000, 32, 32, 3)\n",
            "Training data y shape: (50000, 1)\n",
            "--------------------------------------------------\n",
            "Test data X shape: (10000, 32, 32, 3)\n",
            "Test data y shape: (10000, 1)\n",
            "--------------------------------------------------\n"
          ]
        }
      ],
      "source": [
        "print(\"-\"*50)\n",
        "print(\"Training data X shape: {}\".format(X_train.shape))\n",
        "print(\"Training data y shape: {}\".format(y_train.shape))\n",
        "print(\"-\"*50)\n",
        "print(\"Test data X shape: {}\".format(X_test.shape))\n",
        "print(\"Test data y shape: {}\".format(y_test.shape))\n",
        "print(\"-\"*50)"
      ]
    },
    {
      "cell_type": "code",
      "execution_count": null,
      "metadata": {
        "colab": {
          "background_save": true
        },
        "id": "ftQlMyhyt9G3",
        "outputId": "5812f7d0-1fef-4f58-f6a3-507d738f2bad"
      },
      "outputs": [
        {
          "data": {
            "image/png": "[encoded data removed]",
            "text/plain": [
              "<Figure size 640x480 with 1 Axes>"
            ]
          },
          "metadata": {},
          "output_type": "display_data"
        },
        {
          "name": "stdout",
          "output_type": "stream",
          "text": [
            "[2]\n"
          ]
        }
      ],
      "source": [
        "i_image = 123\n",
        "plt.imshow(X_train[i_image, :, :])\n",
        "plt.show()\n",
        "print(y_train[123])"
      ]
    },
    {
      "cell_type": "code",
      "execution_count": null,
      "metadata": {
        "colab": {
          "background_save": true
        },
        "id": "8ZK39RD5t9Ik"
      },
      "outputs": [],
      "source": [
        "X_train = X_train/255\n",
        "X_test = X_test/255"
      ]
    },
    {
      "cell_type": "code",
      "execution_count": null,
      "metadata": {
        "colab": {
          "background_save": true
        },
        "id": "kZ4XNUySt9Kr"
      },
      "outputs": [],
      "source": [
        "X_train = X_train.reshape(-1, 32, 32, 3)\n",
        "X_test = X_test.reshape(-1, 32, 32, 3)"
      ]
    },
    {
      "cell_type": "code",
      "execution_count": null,
      "metadata": {
        "colab": {
          "background_save": true
        },
        "id": "i68Tuxvgt9M-"
      },
      "outputs": [],
      "source": [
        "y = np.concatenate([y_train,y_test],axis=0)\n",
        "y = tf.keras.utils.to_categorical (y, 10)\n",
        "y_train = y[:n_train_size, :]\n",
        "y_test = y[n_train_size:,:]"
      ]
    },
    {
      "cell_type": "code",
      "execution_count": null,
      "metadata": {
        "colab": {
          "background_save": true
        },
        "id": "YB0LRa1at9O_"
      },
      "outputs": [],
      "source": [
        "drop_prob = 0.7\n",
        "my_model = Sequential()\n",
        "#1st convolution + pooling.\n",
        "my_model.add(Conv2D(input_shape=(32, 32,3), filters=32,kernel_size=(5,5) ,padding = \"same\", activation=\"relu\"))\n",
        "my_model.add(MaxPooling2D(pool_size=2))\n",
        "\n",
        "#2nd convolution + pooling.\n",
        "my_model.add(Conv2D(filters=64,kernel_size=(5,5), padding=\"same\", activation=\"relu\"))\n",
        "my_model.add(MaxPooling2D(pool_size=2))\n",
        "\n",
        "#Flattened fully connected layer.\n",
        "my_model.add(Flatten())\n",
        "my_model.add(Dense(units = 1024, activation=\"relu\"))\n",
        "\n",
        "#Apply dropout.\n",
        "my_model.add (Dropout (rate=drop_prob))\n",
        "\n",
        "#Output layer.\n",
        "my_model.add(Dense(units = 10, activation=\"softmax\"))"
      ]
    },
    {
      "cell_type": "code",
      "execution_count": null,
      "metadata": {
        "colab": {
          "background_save": true
        },
        "id": "hYiACshNvUVZ",
        "outputId": "f4ec4555-ed7f-49df-e76f-6495c8464f10"
      },
      "outputs": [
        {
          "name": "stdout",
          "output_type": "stream",
          "text": [
            "Model: \"sequential_1\"\n",
            "_________________________________________________________________\n",
            " Layer (type)                Output Shape              Param #   \n",
            "=================================================================\n",
            " conv2d_2 (Conv2D)           (None, 32, 32, 32)        2432      \n",
            "                                                                 \n",
            " max_pooling2d_2 (MaxPooling  (None, 16, 16, 32)       0         \n",
            " 2D)                                                             \n",
            "                                                                 \n",
            " conv2d_3 (Conv2D)           (None, 16, 16, 64)        51264     \n",
            "                                                                 \n",
            " max_pooling2d_3 (MaxPooling  (None, 8, 8, 64)         0         \n",
            " 2D)                                                             \n",
            "                                                                 \n",
            " flatten_1 (Flatten)         (None, 4096)              0         \n",
            "                                                                 \n",
            " dense_2 (Dense)             (None, 1024)              4195328   \n",
            "                                                                 \n",
            " dropout_1 (Dropout)         (None, 1024)              0         \n",
            "                                                                 \n",
            " dense_3 (Dense)             (None, 10)                10250     \n",
            "                                                                 \n",
            "=================================================================\n",
            "Total params: 4,259,274\n",
            "Trainable params: 4,259,274\n",
            "Non-trainable params: 0\n",
            "_________________________________________________________________\n"
          ]
        }
      ],
      "source": [
        "my_model.summary()"
      ]
    },
    {
      "cell_type": "code",
      "execution_count": null,
      "metadata": {
        "colab": {
          "background_save": true
        },
        "id": "Gw43BYXwvUft"
      },
      "outputs": [],
      "source": [
        "n_epochs = 20\n",
        "batch_size = 20\n",
        "learn_rate = 0.0001"
      ]
    },
    {
      "cell_type": "code",
      "execution_count": null,
      "metadata": {
        "colab": {
          "background_save": true
        },
        "id": "KxIJswVBvjFY"
      },
      "outputs": [],
      "source": [
        "my_optimizer = Adam(lr=learn_rate)\n",
        "my_model.compile(loss = \"categorical_crossentropy\", optimizer = my_optimizer, metrics = [\"accuracy\"])"
      ]
    },
    {
      "cell_type": "code",
      "execution_count": null,
      "metadata": {
        "colab": {
          "background_save": true,
          "base_uri": "https://localhost:8080/"
        },
        "id": "9dLtVTaDvjJ4",
        "outputId": "8ed747da-12b5-4e95-bb3d-97185df10bfe"
      },
      "outputs": [
        {
          "name": "stdout",
          "output_type": "stream",
          "text": [
            "Epoch 1/20\n",
            "2000/2000 [==============================] - 19s 5ms/step - loss: 1.6902 - accuracy: 0.3852 - val_loss: 1.4199 - val_accuracy: 0.5022\n",
            "Epoch 2/20\n",
            "2000/2000 [==============================] - 9s 5ms/step - loss: 1.3696 - accuracy: 0.5099 - val_loss: 1.2421 - val_accuracy: 0.5654\n",
            "Epoch 3/20\n",
            "2000/2000 [==============================] - 9s 5ms/step - loss: 1.2334 - accuracy: 0.5618 - val_loss: 1.1482 - val_accuracy: 0.6031\n",
            "Epoch 4/20\n",
            "2000/2000 [==============================] - 9s 5ms/step - loss: 1.1353 - accuracy: 0.5995 - val_loss: 1.0641 - val_accuracy: 0.6272\n",
            "Epoch 5/20\n",
            "2000/2000 [==============================] - 9s 5ms/step - loss: 1.0574 - accuracy: 0.6259 - val_loss: 1.0189 - val_accuracy: 0.6409\n",
            "Epoch 6/20\n",
            "2000/2000 [==============================] - 9s 5ms/step - loss: 0.9931 - accuracy: 0.6524 - val_loss: 1.0167 - val_accuracy: 0.6508\n",
            "Epoch 7/20\n",
            "2000/2000 [==============================] - 9s 5ms/step - loss: 0.9391 - accuracy: 0.6709 - val_loss: 0.9477 - val_accuracy: 0.6759\n",
            "Epoch 8/20\n",
            "2000/2000 [==============================] - 10s 5ms/step - loss: 0.8865 - accuracy: 0.6907 - val_loss: 0.9166 - val_accuracy: 0.6833\n",
            "Epoch 9/20\n",
            "2000/2000 [==============================] - 11s 5ms/step - loss: 0.8404 - accuracy: 0.7072 - val_loss: 0.8842 - val_accuracy: 0.6900\n",
            "Epoch 10/20\n",
            "2000/2000 [==============================] - 9s 5ms/step - loss: 0.7974 - accuracy: 0.7214 - val_loss: 0.8744 - val_accuracy: 0.7005\n",
            "Epoch 11/20\n",
            "2000/2000 [==============================] - 9s 5ms/step - loss: 0.7610 - accuracy: 0.7359 - val_loss: 0.8307 - val_accuracy: 0.7112\n",
            "Epoch 12/20\n",
            "2000/2000 [==============================] - 9s 5ms/step - loss: 0.7250 - accuracy: 0.7483 - val_loss: 0.8092 - val_accuracy: 0.7242\n",
            "Epoch 13/20\n",
            "2000/2000 [==============================] - 9s 5ms/step - loss: 0.6929 - accuracy: 0.7582 - val_loss: 0.7987 - val_accuracy: 0.7290\n",
            "Epoch 14/20\n",
            "2000/2000 [==============================] - 9s 5ms/step - loss: 0.6506 - accuracy: 0.7732 - val_loss: 0.8231 - val_accuracy: 0.7197\n",
            "Epoch 15/20\n",
            "2000/2000 [==============================] - 9s 4ms/step - loss: 0.6179 - accuracy: 0.7844 - val_loss: 0.7772 - val_accuracy: 0.7354\n",
            "Epoch 16/20\n",
            "2000/2000 [==============================] - 9s 5ms/step - loss: 0.5866 - accuracy: 0.7964 - val_loss: 0.7721 - val_accuracy: 0.7356\n",
            "Epoch 17/20\n",
            "2000/2000 [==============================] - 10s 5ms/step - loss: 0.5524 - accuracy: 0.8085 - val_loss: 0.7805 - val_accuracy: 0.7375\n",
            "Epoch 18/20\n",
            "2000/2000 [==============================] - 9s 5ms/step - loss: 0.5256 - accuracy: 0.8181 - val_loss: 0.8128 - val_accuracy: 0.7277\n",
            "Epoch 19/20\n",
            "2000/2000 [==============================] - 9s 5ms/step - loss: 0.4938 - accuracy: 0.8285 - val_loss: 0.7863 - val_accuracy: 0.7382\n",
            "Epoch 20/20\n",
            "2000/2000 [==============================] - 9s 5ms/step - loss: 0.4662 - accuracy: 0.8369 - val_loss: 0.7694 - val_accuracy: 0.7465\n"
          ]
        }
      ],
      "source": [
        "my_summary = my_model.fit(X_train, y_train, epochs=n_epochs, batch_size = batch_size, validation_split = 0.2, verbose = 1)"
      ]
    },
    {
      "cell_type": "code",
      "execution_count": null,
      "metadata": {
        "colab": {
          "background_save": true
        },
        "id": "c8JCd2Thv0Jf",
        "outputId": "d45480cd-c5ee-4ed6-fbf8-796f4669c53a"
      },
      "outputs": [
        {
          "data": {
            "text/plain": [
              "<matplotlib.legend.Legend at 0x7f14b82cbc40>"
            ]
          },
          "execution_count": 38,
          "metadata": {},
          "output_type": "execute_result"
        },
        {
          "data": {
            "image/png": "[encoded data removed]",
            "text/plain": [
              "<Figure size 640x480 with 1 Axes>"
            ]
          },
          "metadata": {},
          "output_type": "display_data"
        }
      ],
      "source": [
        "n_skip = 0\n",
        "plt.plot(my_summary.history['accuracy'][n_skip:], c=\"b\")\n",
        "plt.plot(my_summary.history['val_accuracy'][n_skip:], c=\"g\")\n",
        "plt.title('Traning History')\n",
        "plt.xlabel('Epoch')\n",
        "plt.ylabel('Accuracy')\n",
        "plt.legend(['Train', 'Validation'], loc = 'lower right')"
      ]
    },
    {
      "cell_type": "code",
      "execution_count": null,
      "metadata": {
        "colab": {
          "background_save": true
        },
        "id": "X-OXeOpWv6w3",
        "outputId": "75c10ac8-11e0-4847-a07f-e4532b903216"
      },
      "outputs": [
        {
          "name": "stdout",
          "output_type": "stream",
          "text": [
            "Test Accuracy: 0.117\n"
          ]
        }
      ],
      "source": [
        "ACC = my_model.evaluate(X_test, y_test, verbose=0)[1]\n",
        "print(\"Test Accuracy: {}\".format(np.round(ACC, 3)))"
      ]
    },
    {
      "cell_type": "code",
      "execution_count": null,
      "metadata": {
        "colab": {
          "background_save": true
        },
        "id": "r9Pf4-Ddt9RA",
        "outputId": "ef988f6f-ee05-4331-e03d-74052a0a2410"
      },
      "outputs": [
        {
          "name": "stdout",
          "output_type": "stream",
          "text": [
            "313/313 [==============================] - 1s 3ms/step - loss: 2.3038 - accuracy: 0.1174\n"
          ]
        }
      ],
      "source": [
        "ACC = my_model.evaluate(X_test, y_test)"
      ]
    }
  ],
  "metadata": {
    "accelerator": "GPU",
    "colab": {
      "provenance": []
    },
    "kernelspec": {
      "display_name": "Python 3",
      "name": "python3"
    },
    "language_info": {
      "name": "python"
    }
  },
  "nbformat": 4,
  "nbformat_minor": 0
}